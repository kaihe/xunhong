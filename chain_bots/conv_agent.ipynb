{
 "cells": [
  {
   "cell_type": "code",
   "execution_count": 41,
   "metadata": {},
   "outputs": [],
   "source": [
    "from langchain.agents import Tool\n",
    "from langchain.agents import AgentType\n",
    "from langchain.memory import ConversationBufferMemory\n",
    "from langchain import OpenAI\n",
    "from langchain.utilities import WikipediaAPIWrapper\n",
    "from langchain.agents import initialize_agent\n",
    "from dotenv import load_dotenv\n",
    "load_dotenv(\"./.env\")\n",
    "from chain_bots.metra_tools import mtools\n",
    "from chain_bots.prompt import FORMAT_INSTRUCTIONS, PREFIX, SUFFIX\n",
    "from langchain.utilities import GoogleSearchAPIWrapper\n",
    "\n",
    "wikipedia = WikipediaAPIWrapper()\n",
    "search = GoogleSearchAPIWrapper()\n",
    "\n",
    "tools = [\n",
    "    Tool(\n",
    "        name = \"Google Search Tool\",\n",
    "        func=search.run,\n",
    "        description=\"always use this tool first before giving answer about factual questions\"\n",
    "    )\n",
    "] + mtools\n",
    "\n",
    "memory = ConversationBufferMemory(memory_key=\"chat_history\")\n",
    "\n",
    "llm=OpenAI(temperature=0)\n",
    "agent_chain = initialize_agent(tools, llm, agent=AgentType.CONVERSATIONAL_REACT_DESCRIPTION, verbose=True, memory=memory, agent_kwargs={'prefix':PREFIX, 'suffix':SUFFIX, 'format_instructions':FORMAT_INSTRUCTIONS})\n"
   ]
  },
  {
   "cell_type": "code",
   "execution_count": 42,
   "metadata": {},
   "outputs": [
    {
     "name": "stdout",
     "output_type": "stream",
     "text": [
      "\n",
      "\n",
      "\u001b[1m> Entering new AgentExecutor chain...\u001b[0m\n",
      "\u001b[32;1m\u001b[1;3m\n",
      "Thought: Do I need to use a tool? Yes\n",
      "Action: Train time query\n",
      "Action Input: None,体育西路\u001b[0m\n",
      "Observation: \u001b[33;1m\u001b[1;3m请问从哪个车站出发？\u001b[0m\n",
      "Thought:\u001b[32;1m\u001b[1;3m Do I need to use a tool? No\n",
      "AI: 从您的出发车站出发，您可以乘坐地铁1号线、2号线、4号线、5号线、6号线、7号线、8号线、9号线、10号线、11号线、12号线、13号线、14号线、15号线、16号线、17号线、18号线、19号线、20号线、21号线、22号线、23号线、24号线、25号线、26号线、27号线、28号线、29号线、30号线、31\u001b[0m\n",
      "\n",
      "\u001b[1m> Finished chain.\u001b[0m\n"
     ]
    },
    {
     "data": {
      "text/plain": [
       "'从您的出发车站出发，您可以乘坐地铁1号线、2号线、4号线、5号线、6号线、7号线、8号线、9号线、10号线、11号线、12号线、13号线、14号线、15号线、16号线、17号线、18号线、19号线、20号线、21号线、22号线、23号线、24号线、25号线、26号线、27号线、28号线、29号线、30号线、31'"
      ]
     },
     "execution_count": 42,
     "metadata": {},
     "output_type": "execute_result"
    }
   ],
   "source": [
    "agent_chain.run(input=\"怎么乘车去体育西路站？\")"
   ]
  },
  {
   "cell_type": "code",
   "execution_count": 12,
   "metadata": {},
   "outputs": [
    {
     "name": "stdout",
     "output_type": "stream",
     "text": [
      "\n",
      "\n",
      "\u001b[1m> Entering new AgentExecutor chain...\u001b[0m\n",
      "\u001b[32;1m\u001b[1;3m\n",
      "Thought: Do I need to use a tool? Yes\n",
      "Action: Transfer query\n",
      "Action Input: 大学城南站,体育西路\u001b[0m\n",
      "Observation: \u001b[38;5;200m\u001b[1;3m从大学城南站到体育西路的要先乘坐3号线到体育西路，再换乘7号线\u001b[0m\n",
      "Thought:\u001b[32;1m\u001b[1;3m Do I need to use a tool? No\n",
      "AI: 您可以先乘坐3号线到体育西路，再换乘7号线到达体育西路站。\u001b[0m\n",
      "\n",
      "\u001b[1m> Finished chain.\u001b[0m\n"
     ]
    },
    {
     "data": {
      "text/plain": [
       "'您可以先乘坐3号线到体育西路，再换乘7号线到达体育西路站。'"
      ]
     },
     "execution_count": 12,
     "metadata": {},
     "output_type": "execute_result"
    }
   ],
   "source": [
    "agent_chain.run(input=\"大学城南站\")"
   ]
  },
  {
   "cell_type": "code",
   "execution_count": 23,
   "metadata": {},
   "outputs": [
    {
     "name": "stdout",
     "output_type": "stream",
     "text": [
      "\n",
      "\n",
      "\u001b[1m> Entering new AgentExecutor chain...\u001b[0m\n",
      "\u001b[32;1m\u001b[1;3m\n",
      "Thought: Do I need to use a tool? No\n",
      "AI: According to reviews, the most interesting Doraemon manga is the \"Doraemon: Nobita's Dinosaur 2006\" movie. It is a classic story about Nobita's adventures with a time-traveling dinosaur.\u001b[0m\n",
      "\n",
      "\u001b[1m> Finished chain.\u001b[0m\n"
     ]
    },
    {
     "data": {
      "text/plain": [
       "'According to reviews, the most interesting Doraemon manga is the \"Doraemon: Nobita\\'s Dinosaur 2006\" movie. It is a classic story about Nobita\\'s adventures with a time-traveling dinosaur.'"
      ]
     },
     "execution_count": 23,
     "metadata": {},
     "output_type": "execute_result"
    }
   ],
   "source": []
  }
 ],
 "metadata": {
  "kernelspec": {
   "display_name": "llm",
   "language": "python",
   "name": "python3"
  },
  "language_info": {
   "codemirror_mode": {
    "name": "ipython",
    "version": 3
   },
   "file_extension": ".py",
   "mimetype": "text/x-python",
   "name": "python",
   "nbconvert_exporter": "python",
   "pygments_lexer": "ipython3",
   "version": "3.10.10"
  },
  "orig_nbformat": 4
 },
 "nbformat": 4,
 "nbformat_minor": 2
}
